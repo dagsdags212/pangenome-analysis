{
 "cells": [
  {
   "cell_type": "markdown",
   "id": "613f2e8e-129c-4f4f-ae60-f1e9a8e921af",
   "metadata": {
    "editable": true,
    "slideshow": {
     "slide_type": ""
    },
    "tags": []
   },
   "source": [
    "---\n",
    "kernelspec:\n",
    "    name: python3\n",
    "    display_name: python3\n",
    "---"
   ]
  },
  {
   "cell_type": "markdown",
   "id": "41961dd8-7784-4e73-b749-331611c32eaa",
   "metadata": {
    "editable": true,
    "slideshow": {
     "slide_type": ""
    },
    "tags": []
   },
   "source": [
    "# Retrieving ASFV Genome Data"
   ]
  },
  {
   "cell_type": "markdown",
   "id": "09b1ff2c-5606-4d65-b7e1-451736a5cbc9",
   "metadata": {
    "editable": true,
    "slideshow": {
     "slide_type": ""
    },
    "tags": []
   },
   "source": [
    ":::{admonition} Objective\n",
    "Fetch all available ASFV genome assemblies from the NCBI database.\n",
    ":::"
   ]
  },
  {
   "cell_type": "markdown",
   "id": "ae7280f8-ae66-44ad-9d94-6cd705809687",
   "metadata": {
    "editable": true,
    "slideshow": {
     "slide_type": ""
    },
    "tags": []
   },
   "source": [
    "```{code-cell} python\n",
    ":tags: remove-input\n",
    "import numpy as np\n",
    "import pandas as pd\n",
    "import matplotlib.pyplot as plt\n",
    "%matplotlib inline\n",
    "```"
   ]
  },
  {
   "cell_type": "markdown",
   "id": "7fefb7a8-cb74-4245-82b1-90d8374dcb98",
   "metadata": {
    "editable": true,
    "slideshow": {
     "slide_type": ""
    },
    "tags": []
   },
   "source": [
    "## Querying the NCBI Assembly Database\n",
    "\n",
    "[](#fetch-assemblies) retrieves all ASFV assembled genomes hosted at the NCBI Assembly database. The `efetch` command queries the NCBI nucleotide database (nuccore) using the given query string. The results are then piped into `elink` to convert the returned UIDs into assembly IDs prefixed with \"GCA\". Metadata for each assembly ID is then extracted using `esummary` and parsed with the supplemetary `xtract` tools also provided by `edirect`. The final output is a list of assembly IDs stored as a newline-delimited text file (`accessions.txt`)."
   ]
  },
  {
   "cell_type": "markdown",
   "id": "f6292d38-445b-4cfc-a716-3e4cb62d39da",
   "metadata": {
    "editable": true,
    "slideshow": {
     "slide_type": ""
    },
    "tags": []
   },
   "source": [
    ":::{code-block} bash\n",
    ":label: fetch-assemblies\n",
    ":caption: Retrieve ASFV assemblies from the Philippines.\n",
    "\n",
    "OUT=assets/flatfiles/accessions.txt\n",
    "esearch -db nuccore -query \"African swine fever virus complete genome AND Philippines\" \\\n",
    "    | elink -target assembly \\\n",
    "    | esummary \\\n",
    "    | xtract -pattern DocumentSummary -element AssemblyAccession > ${OUT}\n",
    ":::"
   ]
  },
  {
   "cell_type": "markdown",
   "id": "fc0ea4d5-b757-4b51-ab1f-5cb7d4eac303",
   "metadata": {},
   "source": [
    "Additionally, the assembly IDs of representative genomes of other ASFV genotypes as categorized by @doi:10.3390/v15112246 were also retrieved by running [](#fetch-other-assemblies). The returned IDs were appended to the `accessions.txt`.\n",
    "\n",
    ":::{code-block} bash\n",
    ":label: fetch-other-assemblies\n",
    ":caption: Retrieve ASFV assemblies representative of other genotypes.\n",
    "\n",
    "OUT=assets/flatfiles/accessions.txt\n",
    "ACC=assets/flatfiles/new_genotype_accessions.txt\n",
    "cat ${ACC} \\\n",
    "    | elink -db nuccore -target assembly \\\n",
    "    | esummary \\\n",
    "    | xtract -pattern DocumentSummary -element AssemblyAccession >> ${OUT}\n",
    ":::"
   ]
  },
  {
   "cell_type": "markdown",
   "id": "94a34ea7-d3f4-48a1-bbe3-96be00c74aeb",
   "metadata": {},
   "source": [
    "The output file should contain a list of  **29** assembly identifiers, 20 from the Philippines and 9 from @doi:10.3390/v15112246. We could confirm this by displaying the contents of `accessions.txt`.\n",
    "\n",
    ":::{code-cell} python\n",
    ":tags: remove-input\n",
    ":label: count-accessions\n",
    "\n",
    "!bat assets/flatfiles/accessions.txt\n",
    ":::"
   ]
  },
  {
   "cell_type": "markdown",
   "id": "a8416a6f-7cda-4e4e-8f78-e53306351bc1",
   "metadata": {
    "editable": true,
    "slideshow": {
     "slide_type": ""
    },
    "tags": []
   },
   "source": [
    "## Filtering for Complete Assemblies\n",
    "\n",
    "Only complete assemblies will be used to construct the pangenome graph. To do this, we include the \"AssemblyStatus\" field when parsing using `xtract` and subsequently filtering the results with `grep`.\n",
    "\n",
    "```{code-block} bash\n",
    ":label: filter-complete-genomes\n",
    ":caption: Filter for accessions with complete genome assemblies.\n",
    "\n",
    "OUT=./assets/flatfiles/complete_assemblies.csv\n",
    "echo \"accession,assembly_id,status,date_published\" > ${OUT}\n",
    "grep \"Complete Genome\" ./assets/flatfiles/assemblies.csv \\\n",
    "    | sed -e \"s/complete genome,//g\" >> ${OUT}\n",
    "```"
   ]
  },
  {
   "cell_type": "markdown",
   "id": "50a31718-ae63-45b7-b62b-52e7b153d565",
   "metadata": {
    "editable": true,
    "slideshow": {
     "slide_type": ""
    },
    "tags": []
   },
   "source": [
    "```{code-block} bash\n",
    ":label: count-genomes\n",
    ":caption: Count the number of assembled genome per year and visualize.\n",
    "\n",
    "cat ./assets/flatfiles/assemblies.csv \\\n",
    "    | awk -F , '{print $4}' | awk -F / '{print $1}' \\\n",
    "    | sort -n -r | uniq -c | head -n -1 \\\n",
    "    | awk '{$1=$1;print}' | tr \" \" \",\" > ./assets/flatfiles/counts.csv\n",
    "```"
   ]
  },
  {
   "cell_type": "markdown",
   "id": "01cb0326-20ac-4128-a0e1-4e48784f40e1",
   "metadata": {
    "editable": true,
    "slideshow": {
     "slide_type": ""
    },
    "tags": [
     "hide-input"
    ]
   },
   "source": [
    "```{code-cell} python\n",
    ":tags: remove-input\n",
    ":label: genome-counts\n",
    "\n",
    "genome_counts = pd.read_csv(\"./assets/flatfiles/counts.csv\", header=None, names=[\"count\", \"year\"]).sort_values(by=\"year\", ascending=True)\n",
    "\n",
    "fig, ax = plt.subplots(figsize=(10,6))\n",
    "ax.bar(x=genome_counts[\"year\"], height=genome_counts[\"count\"])\n",
    "ax.set_xlabel(\"Year\")\n",
    "ax.set_ylabel(\"Genome count\")\n",
    "ax.set_title(\"No. of Assembled ASFV Genomes Per Year\") \n",
    "\n",
    "for rect in ax.patches:\n",
    "    y_value = rect.get_height()\n",
    "    x_value = rect.get_x() + rect.get_width() / 2\n",
    "    space = 1\n",
    "    label = \"{:.0f}\".format(y_value)\n",
    "    ax.annotate(label, (x_value, y_value), xytext=(0, space), textcoords=\"offset points\", ha='center', va='bottom')\n",
    "\n",
    "plt.show()\n",
    "```"
   ]
  },
  {
   "cell_type": "markdown",
   "id": "fe5cc69e-0a84-44ec-87df-5b2efb2d66f5",
   "metadata": {
    "user_expressions": [
     {
      "expression": "genome_counts['count'].sum()",
      "result": {
       "ename": "NameError",
       "evalue": "name 'genome_counts' is not defined",
       "status": "error",
       "traceback": [
        "\u001b[0;31mNameError\u001b[0m\u001b[0;31m:\u001b[0m name 'genome_counts' is not defined\n"
       ]
      }
     }
    ]
   },
   "source": [
    "ASFV assemblies can be aggregated by count across different years by running [](#count-genomes). As of writing there are a total of {eval}`genome_counts['count'].sum()` available ASFV genomes, 347 of which are complete assemblies."
   ]
  },
  {
   "cell_type": "markdown",
   "id": "fc078d12-303f-4fd5-9fc5-ef04593e28eb",
   "metadata": {
    "editable": true,
    "slideshow": {
     "slide_type": ""
    },
    "tags": []
   },
   "source": [
    "## Downloading Genomes\n",
    "\n",
    "`datasets` will be used to request all assemblies from the NCBI server as seen in [](#download-all-genomes). The list of accessions identifiers will be passed as argument to the `--inputfile` flag."
   ]
  },
  {
   "cell_type": "markdown",
   "id": "489ee7b4-81e1-416b-8827-e6cabd7285cd",
   "metadata": {},
   "source": [
    "```{code-block} bash\n",
    ":label: download-all-genomes\n",
    ":caption: Request all assemblies from the NCBI server using `datasets`.\n",
    "\n",
    "# Create an directory for genome assemblies\n",
    "mkdir -p assets/genomes\n",
    "\n",
    "# Download all assemblies from NCBI\n",
    "datasets download genome accession --inputfile assets/flatfiles/accessions.txt \\\n",
    "    --include genome --filename assets/genomes.zip'\n",
    "``` "
   ]
  },
  {
   "cell_type": "markdown",
   "id": "ec59ae6c-f0c6-430d-aff9-426f9c7cfe00",
   "metadata": {},
   "source": [
    "All downloaded genomes are stored in the zipped parent directory (`assets/genomes.zip`). This corresponds to exactly 29 FASTA files. Some assemblies have multiple versions as evident by the same accession having different suffixes (e.g., `GCA_003815435.1`, `GCA_003815435.2`, `GCA_003815435.1`). Only the most recent version was retained for analysis.\n",
    "\n",
    "All directories are decompressed and sequnces are merged into a single, large FASTA file by running [](#concat-all-fasta)."
   ]
  },
  {
   "cell_type": "markdown",
   "id": "4a9e6fe9-99df-4fd8-a7cf-975e247b7147",
   "metadata": {},
   "source": [
    "```{code-block} bash\n",
    ":label: concat-all-fasta\n",
    ":caption: Merge all FASTA files using `cat`.\n",
    "\n",
    "# Unzip downloaded directory\n",
    "unzip assets/genomes.zip -d assets/genomes\n",
    "\n",
    "# Merge all FASTA files into a single file\n",
    "cat assets/genomes/ncbi_datasets/data/**/*.fna > assets/genomes.fasta\n",
    "```"
   ]
  },
  {
   "cell_type": "markdown",
   "id": "6b16423c-a70d-4bee-adc6-3e5ede8409ca",
   "metadata": {},
   "source": [
    "As a sanity check, confirm that there are 29 header lines in `genomes.fasta`:"
   ]
  },
  {
   "cell_type": "code",
   "execution_count": 2,
   "id": "2457ceda-33fc-4fec-ae10-d5ed648fe6e3",
   "metadata": {},
   "outputs": [
    {
     "name": "stdout",
     "output_type": "stream",
     "text": [
      "29\n"
     ]
    }
   ],
   "source": [
    "!cat ../assets/genomes.fasta | grep \">\" | wc -l"
   ]
  },
  {
   "cell_type": "code",
   "execution_count": null,
   "id": "365c6170-1159-4b6c-b1bd-35a8a1396d71",
   "metadata": {},
   "outputs": [],
   "source": []
  }
 ],
 "metadata": {
  "kernelspec": {
   "display_name": "Python 3 (ipykernel)",
   "language": "python",
   "name": "python3"
  },
  "language_info": {
   "codemirror_mode": {
    "name": "ipython",
    "version": 3
   },
   "file_extension": ".py",
   "mimetype": "text/x-python",
   "name": "python",
   "nbconvert_exporter": "python",
   "pygments_lexer": "ipython3",
   "version": "3.10.12"
  }
 },
 "nbformat": 4,
 "nbformat_minor": 5
}
