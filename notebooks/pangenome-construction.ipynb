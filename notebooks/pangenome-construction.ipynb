{
 "cells": [
  {
   "cell_type": "markdown",
   "id": "87c59bb3-d249-4896-a7e4-c49388e5bb10",
   "metadata": {},
   "source": [
    "# Pangeome Construction\n",
    "\n",
    "::: {admonition} Goal\n",
    "Generate a pangenome graph representing all 29 ASFV assemblies.\n",
    ":::"
   ]
  },
  {
   "cell_type": "code",
   "execution_count": null,
   "id": "2ac2ebc2-2cbe-45e9-bbf8-72e251b66160",
   "metadata": {},
   "outputs": [],
   "source": []
  }
 ],
 "metadata": {
  "kernelspec": {
   "display_name": "Python 3 (ipykernel)",
   "language": "python",
   "name": "python3"
  },
  "language_info": {
   "codemirror_mode": {
    "name": "ipython",
    "version": 3
   },
   "file_extension": ".py",
   "mimetype": "text/x-python",
   "name": "python",
   "nbconvert_exporter": "python",
   "pygments_lexer": "ipython3",
   "version": "3.10.12"
  }
 },
 "nbformat": 4,
 "nbformat_minor": 5
}
