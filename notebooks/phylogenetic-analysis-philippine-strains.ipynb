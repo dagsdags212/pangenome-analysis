{
 "cells": [
  {
   "cell_type": "markdown",
   "id": "1d6ddc12-6447-4ec3-8d4a-b84c5dc6afd3",
   "metadata": {},
   "source": [
    "---\n",
    "kernelspec:\n",
    "    name: python3\n",
    "    display_name: python3\n",
    "---"
   ]
  },
  {
   "cell_type": "markdown",
   "id": "e1aa0fb2-1e07-479b-a805-6df67b4a65e7",
   "metadata": {},
   "source": [
    "# Phylogenetic Analysis of ASFV Strains in the Philippines"
   ]
  },
  {
   "cell_type": "markdown",
   "id": "69231311-51b2-4462-8c2a-b67e3479b9d4",
   "metadata": {},
   "source": [
    ":::{admonition} Objective\n",
    "Construct a phylogenetic tree consisting of 20 ASFV strains sequenced in the Philippines.\n",
    ":::"
   ]
  },
  {
   "cell_type": "markdown",
   "id": "25ac5e45-cf7a-4ced-80ce-f0030261196b",
   "metadata": {},
   "source": [
    "Sequencing efforts by @doi:10.1128/mra.00719-22 and Ko _et al_. (unpublished) resulted in the publication of many complete, high-quality assemblies of ASFV strains in the Philippines. To identify the viral genotypes present in the country, a genome-wide diversity analysis will be conducted using only completed genomes sequenced from strains found within the country. "
   ]
  },
  {
   "cell_type": "markdown",
   "id": "c11e5f58-7749-45d7-9504-6f40d7923177",
   "metadata": {},
   "source": [
    ":::{mermaid}\n",
    "\n",
    ":::"
   ]
  },
  {
   "cell_type": "markdown",
   "id": "ce246610-e7ef-40f8-89a9-03d9707a08a5",
   "metadata": {},
   "source": [
    "## Sequence Retrieval\n",
    "\n",
    "All published ASFV complete genomes were filtered and retrieved from the NCBI nucleotide database on 03 December 2024 using `entrez-direct` (v22.4). The data retrieval step can be replicated by running [](#fetch-philippine-genomes). Returned results were verified by runnning the same query on the NCBI website and manually counting the number of complete genomes from the Philippines."
   ]
  },
  {
   "cell_type": "markdown",
   "id": "181d78e0-bd2a-426c-9b80-ccb93dde9a1b",
   "metadata": {},
   "source": [
    "```{code-block} bash\n",
    ":label: fetch-philippine-genomes\n",
    ":caption: Fetching complete ASFV genomes from the Philippines.\n",
    "\n",
    "esearch -db nucleotide -query \"African swine fever virus AND Philippines\" \\\n",
    "    | esummary \\\n",
    "    | xtract -pattern DocumentSummary -if Completeness -equals complete -element AccessionVersion \\\n",
    "    | efetch -db nucleotide -format fasta > assets/philippine_genomes.fasta\n",
    "```"
   ]
  },
  {
   "cell_type": "markdown",
   "id": "2d916745-8fa5-4431-af3d-474194706d74",
   "metadata": {},
   "source": [
    "## Sequence Alignment\n",
    "\n",
    "The ASFV genome sequences were aligned using MAFFT (v7.525)[@doi:10.1093/bioinformatics/bty121]. The program was run with the `--auto` flag ([](#mafft-alignment)). Genome sequences containing unknown bases and unconfirmed large-fragment deletion were identified."
   ]
  },
  {
   "cell_type": "markdown",
   "id": "f2effda3-bd9f-43eb-b21e-f233d8d41936",
   "metadata": {},
   "source": [
    "```{code-block} bash\n",
    ":label: mafft-alignment\n",
    ":caption: Mulitple sequence alignment with MAFFT.\n",
    "\n",
    "IN=assets/philippine_genomes.fasta\n",
    "OUT=output/mafft/philippines_mafft_auto.aln\n",
    "mafft --auto ${IN} > ${OUT}\n",
    "```"
   ]
  },
  {
   "cell_type": "markdown",
   "id": "46918744-b7d7-484b-84f8-02b68c982d49",
   "metadata": {},
   "source": [
    "## Maximum Likelihood Phylogenetic Analysis\n",
    "\n",
    "Maximum likelihood (ML) phylogenetic trees were estimated by RAxML (v8.2.12) using the GTR-GAMMA nucleotide substitution model. ML boostrapping was performed with 1000 replicates in order to assess the robustness of tree topologies. The final tree was midpoint rooted by FigTree."
   ]
  },
  {
   "cell_type": "markdown",
   "id": "a89eabb0-2fb8-49e4-ba12-5eb163cc7bf1",
   "metadata": {},
   "source": []
  },
  {
   "cell_type": "markdown",
   "id": "774bd9d2-5c92-4e75-94b4-2ead24ef1f1f",
   "metadata": {},
   "source": []
  },
  {
   "cell_type": "markdown",
   "id": "a057a39d-6902-4b8e-b4c5-bc95ed294700",
   "metadata": {},
   "source": []
  },
  {
   "cell_type": "markdown",
   "id": "c7f12f5f-ac20-4d8b-9cd4-1f8dc5ff45c9",
   "metadata": {},
   "source": []
  }
 ],
 "metadata": {
  "kernelspec": {
   "display_name": "Python 3 (ipykernel)",
   "language": "python",
   "name": "python3"
  },
  "language_info": {
   "codemirror_mode": {
    "name": "ipython",
    "version": 3
   },
   "file_extension": ".py",
   "mimetype": "text/x-python",
   "name": "python",
   "nbconvert_exporter": "python",
   "pygments_lexer": "ipython3",
   "version": "3.10.12"
  }
 },
 "nbformat": 4,
 "nbformat_minor": 5
}
